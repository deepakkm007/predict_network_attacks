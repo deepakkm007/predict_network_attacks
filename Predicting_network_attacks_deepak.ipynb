{
 "cells": [
  {
   "cell_type": "raw",
   "metadata": {},
   "source": [
    "# -*- coding: utf-8 -*-\n",
    "\"\"\"\n",
    "Created on Thu Nov 30 21:11:39 2017\n",
    "\n",
    "@author: Deepu\n",
    "\"\"\""
   ]
  },
  {
   "cell_type": "code",
   "execution_count": null,
   "metadata": {
    "collapsed": true,
    "scrolled": true
   },
   "outputs": [],
   "source": [
    "import pandas as pd\n",
    "import xgboost as xgb\n",
    "from sklearn.metrics import accuracy_score\n",
    "from sklearn.model_selection import train_test_split"
   ]
  },
  {
   "cell_type": "code",
   "execution_count": null,
   "metadata": {
    "collapsed": false,
    "scrolled": true
   },
   "outputs": [],
   "source": [
    "train = pd.read_csv(\"train_data.csv\")\n",
    "test = pd.read_csv(\"test_data.csv\")"
   ]
  },
  {
   "cell_type": "code",
   "execution_count": null,
   "metadata": {
    "collapsed": true,
    "scrolled": true
   },
   "outputs": [],
   "source": [
    "#Check target class\n",
    "train['target'].value_counts(normalize=True)"
   ]
  },
  {
   "cell_type": "code",
   "execution_count": null,
   "metadata": {
    "collapsed": true,
    "scrolled": true
   },
   "outputs": [],
   "source": [
    "#Check missing values\n",
    "train.isnull().sum(axis=0)"
   ]
  },
  {
   "cell_type": "code",
   "execution_count": null,
   "metadata": {
    "collapsed": true,
    "scrolled": true
   },
   "outputs": [],
   "source": [
    "train = train.drop([\"target\"], axis=1)\n",
    "train.drop([\"connection_id\"], axis=1)\n",
    "train[\"connection_id\"] = range(0, len(train))            \n",
    "feature_names = [x for x in train.columns if x not in ['connection_id','target']]\n",
    "target = train['target']"
   ]
  },
  {
   "cell_type": "code",
   "execution_count": null,
   "metadata": {
    "collapsed": true,
    "scrolled": true
   },
   "outputs": [],
   "source": [
    "X_train, X_test, y_train, y_test = train_test_split(train, target, train_size = 0.7, stratify = target, random_state = 42)  "
   ]
  },
  {
   "cell_type": "markdown",
   "metadata": {},
   "source": [
    "1.Decision Tree"
   ]
  },
  {
   "cell_type": "code",
   "execution_count": null,
   "metadata": {
    "collapsed": true,
    "scrolled": true
   },
   "outputs": [],
   "source": [
    "from sklearn.tree import DecisionTreeClassifier\n",
    "\n",
    "# set up model\n",
    "dt_clf = DecisionTreeClassifier(max_depth=8, min_samples_split=7, max_features='sqrt')\n",
    "#train model\n",
    "dt_clf.fit(train[feature_names], target)\n",
    "#make prediction\n",
    "dt_prediction = dt_clf.predict(test[feature_names])"
   ]
  },
  {
   "cell_type": "code",
   "execution_count": null,
   "metadata": {
    "collapsed": true,
    "scrolled": true
   },
   "outputs": [],
   "source": [
    "#Export to CSV\n",
    "sub = pd.read_csv(\"sample_submission.csv\")\n",
    "sub['target'] = dt_prediction\n",
    "sub['target'] = sub['target'].astype(int)\n",
    "sub.to_csv('DecisionTree.csv', index=False)"
   ]
  },
  {
   "cell_type": "markdown",
   "metadata": {},
   "source": [
    "2.Logistic Regression"
   ]
  },
  {
   "cell_type": "code",
   "execution_count": null,
   "metadata": {
    "collapsed": true,
    "scrolled": true
   },
   "outputs": [],
   "source": [
    "from sklearn.linear_model import LogisticRegression\n",
    "# set up model\n",
    "lr_clf=LogisticRegression()\n",
    "#train model\n",
    "lr_clf.fit(train[feature_names], target)\n",
    "#make prediction\n",
    "lr_prediction = lr_clf.predict(test[feature_names])"
   ]
  },
  {
   "cell_type": "code",
   "execution_count": null,
   "metadata": {
    "collapsed": true,
    "scrolled": true
   },
   "outputs": [],
   "source": [
    "#Export to CSV\n",
    "sub = pd.read_csv(\"sample_submission.csv\")\n",
    "sub['target'] = lr_prediction\n",
    "sub['target'] = sub['target'].astype(int)\n",
    "sub.to_csv('LogisticRegression.csv', index=False)"
   ]
  },
  {
   "cell_type": "markdown",
   "metadata": {},
   "source": [
    "3. Linear Regression"
   ]
  },
  {
   "cell_type": "code",
   "execution_count": null,
   "metadata": {
    "collapsed": false,
    "scrolled": true
   },
   "outputs": [],
   "source": [
    "from sklearn.linear_model import LinearRegression\n",
    "#model creation\n",
    "lr=LinearRegression(copy_X=False, fit_intercept=False, n_jobs=1, normalize=True)\n",
    "#Train the model\n",
    "lr.fit(train[feature_names],target)\n",
    "#Make predictions\n",
    "lr_prediction=lr.predict(test[feature_names])"
   ]
  },
  {
   "cell_type": "code",
   "execution_count": null,
   "metadata": {
    "collapsed": false,
    "scrolled": true
   },
   "outputs": [],
   "source": [
    "#Export to CSV\n",
    "sub = pd.read_csv(\"sample_submission.csv\")\n",
    "sub['target'] = lr_prediction\n",
    "sub['target'] = sub['target'].astype(int)\n",
    "sub.to_csv('LinearRegression.csv', index=False)"
   ]
  },
  {
   "cell_type": "markdown",
   "metadata": {},
   "source": [
    " 4.KNN"
   ]
  },
  {
   "cell_type": "code",
   "execution_count": null,
   "metadata": {
    "collapsed": true,
    "scrolled": true
   },
   "outputs": [],
   "source": [
    "from sklearn import neighbors\n",
    "#model creation\n",
    "knn=neighbors.KNeighborsClassifier(n_neighbors=5,algorithm='auto')\n",
    "#Train the model\n",
    "knn.fit(train[feature_names],target)\n",
    "#Make predictions\n",
    "knn_prediction=knn.predict(test[feature_names])"
   ]
  },
  {
   "cell_type": "code",
   "execution_count": null,
   "metadata": {
    "collapsed": true,
    "scrolled": true
   },
   "outputs": [],
   "source": [
    "#Export to CSV\n",
    "sub = pd.read_csv(\"sample_submission.csv\")\n",
    "sub['target'] = knn_prediction\n",
    "sub['target'] = sub['target'].astype(int)\n",
    "sub.to_csv('KNN.csv', index=False)"
   ]
  },
  {
   "cell_type": "markdown",
   "metadata": {},
   "source": [
    "5.XGBoost"
   ]
  },
  {
   "cell_type": "code",
   "execution_count": null,
   "metadata": {
    "collapsed": true,
    "scrolled": true
   },
   "outputs": [],
   "source": [
    "# default parameters\n",
    "xgboost_params = { \n",
    "   \"objective\": \"multi:softmax\",\n",
    "   \"booster\": \"gbtree\",\n",
    "   \"eval_metric\": \"auc\",\n",
    "   \"eta\": 0.3, \n",
    "   \"gamma\":0,\n",
    "   \"subsample\": 1,\n",
    "   \"colsample_bytree\": 1,\n",
    "   \"num_class\" : 3,\n",
    "   \"max_depth\": 6\n",
    "}"
   ]
  },
  {
   "cell_type": "code",
   "execution_count": null,
   "metadata": {
    "collapsed": true,
    "scrolled": true
   },
   "outputs": [],
   "source": [
    "#Convert the data into required format\n",
    "xgtrain = xgb.DMatrix(X_train.values, y_train.values)\n",
    "xgtest=xgb.DMatrix(X_test.values)"
   ]
  },
  {
   "cell_type": "code",
   "execution_count": null,
   "metadata": {
    "collapsed": true,
    "scrolled": true
   },
   "outputs": [],
   "source": [
    "# Increase rounds until you get desired accuracy.It slows down as the number of rounds increases\n",
    "boost_round = 15\n",
    "\n",
    "# train the classifier\n",
    "clf = xgb.train(xgboost_params,xgtrain,num_boost_round=boost_round,verbose_eval=20,maximize=True)\n",
    "\n",
    "# predict\n",
    "prediction_XG= clf.predict(xgtest, ntree_limit=clf.best_iteration)\n",
    "\n",
    "# calculate accuracy\n",
    "xgb_accuracy_score = accuracy_score(y_test, prediction_XG)\n",
    "print(\"Accuracy with XGBoost Classifier-> %.2f%%\" % (xgb_accuracy_score * 100.0))"
   ]
  },
  {
   "cell_type": "code",
   "execution_count": null,
   "metadata": {
    "collapsed": true,
    "scrolled": true
   },
   "outputs": [],
   "source": [
    "#predict on the new data i.e Test.csv\n",
    "# saving text ids for later\n",
    "new_data_text_ids = pd.DataFrame(test[\"connection_id\"])\n",
    "new_data_text_ids.columns = [\"connection_id\"]\n",
    "new_data_text_ids[\"connection_id\"] = range(0, len(new_data_text_ids))"
   ]
  },
  {
   "cell_type": "code",
   "execution_count": null,
   "metadata": {
    "collapsed": true,
    "scrolled": true
   },
   "outputs": [],
   "source": [
    "# get rid of the text data \n",
    "test.drop([\"connection_id\"], axis=1)\n",
    "test[\"connection_id\"] = range(0, len(test))"
   ]
  },
  {
   "cell_type": "code",
   "execution_count": null,
   "metadata": {
    "collapsed": true,
    "scrolled": true
   },
   "outputs": [],
   "source": [
    "# convert to XGBoost format\n",
    "xg_new_data = xgb.DMatrix(test.values)"
   ]
  },
  {
   "cell_type": "code",
   "execution_count": null,
   "metadata": {
    "collapsed": true,
    "scrolled": true
   },
   "outputs": [],
   "source": [
    "# predict and export predictions to CSV\n",
    "xgb_prediction = clf.predict(xg_new_data, ntree_limit=clf.best_iteration)\n",
    "results = pd.DataFrame(xgb_prediction)\n",
    "results.columns = [\"pred_target\"]\n",
    "results[\"connection_id\"] = range(0, len(results))\n",
    "new_result = pd.merge(results, new_data_text_ids, left_on=\"connection_id\", right_on=\"connection_id\")\n",
    "final_result = new_result[[\"connection_id\", \"pred_target\"]]\n",
    "final_result.to_csv(\"XGBoost.csv\")\n"
   ]
  }
 ],
 "metadata": {
  "kernelspec": {
   "display_name": "Python 3",
   "language": "python",
   "name": "python3"
  },
  "language_info": {
   "codemirror_mode": {
    "name": "ipython",
    "version": 3
   },
   "file_extension": ".py",
   "mimetype": "text/x-python",
   "name": "python",
   "nbconvert_exporter": "python",
   "pygments_lexer": "ipython3",
   "version": "3.6.0"
  }
 },
 "nbformat": 4,
 "nbformat_minor": 2
}
